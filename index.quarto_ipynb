{
  "cells": [
    {
      "cell_type": "markdown",
      "metadata": {},
      "source": [
        "---\n",
        "title: \"ISSS626-Kieren Chua\"\n",
        "author: \"Kieren Chua\"\n",
        "date: \"August 20 2024\"\n",
        "date-modified: \"last-modified\"\n",
        "execute: \n",
        "    eval: true # evaulate the code first\n",
        "    echo: true # See the code output\n",
        "    message: false # don't see the warnings\n",
        "    freeze: true # Prevent re-render\n",
        "---\n",
        "\n",
        "\n",
        "\n",
        "\n",
        "This is Kieren Chua's ISSS626 Module Home page\n"
      ],
      "id": "281127b8"
    },
    {
      "cell_type": "code",
      "metadata": {},
      "source": [
        "1 + 1"
      ],
      "id": "53f8961e",
      "execution_count": null,
      "outputs": []
    }
  ],
  "metadata": {
    "kernelspec": {
      "display_name": "Python 3",
      "language": "python",
      "name": "python3"
    }
  },
  "nbformat": 4,
  "nbformat_minor": 5
}